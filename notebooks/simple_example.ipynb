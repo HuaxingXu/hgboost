{
  "nbformat": 4,
  "nbformat_minor": 0,
  "metadata": {
    "colab": {
      "name": "Untitled0.ipynb",
      "provenance": []
    },
    "kernelspec": {
      "name": "python3",
      "display_name": "Python 3"
    }
  },
  "cells": [
    {
      "cell_type": "code",
      "metadata": {
        "id": "5zScmatVJ89g",
        "colab_type": "code",
        "colab": {}
      },
      "source": [
        "pip install hgboost\n",
        "from hgboost import hgboost"
      ],
      "execution_count": null,
      "outputs": []
    },
    {
      "cell_type": "code",
      "metadata": {
        "id": "RI-QnkptJ_ia",
        "colab_type": "code",
        "colab": {}
      },
      "source": [
        "# Initialize\n",
        "hgb = hgboost(max_eval=250, threshold=0.5, cv=5, test_size=0.2, val_size=0.2, top_cv_evals=10)"
      ],
      "execution_count": null,
      "outputs": []
    },
    {
      "cell_type": "code",
      "metadata": {
        "id": "DRq5gl2eKFNq",
        "colab_type": "code",
        "colab": {}
      },
      "source": [
        "# Fit model on data using desired model\n",
        "results = hgb.lightboost(X, y)\n",
        "results = hgb.catboost(X, y)\n",
        "results = hgb.xgboost(X, y)\n",
        "\n",
        "# Fit model on data using ensemble of all models\n",
        "results   = hgb.ensemble(X, y)"
      ],
      "execution_count": null,
      "outputs": []
    },
    {
      "cell_type": "code",
      "metadata": {
        "id": "eB5qVtX_KNZE",
        "colab_type": "code",
        "colab": {}
      },
      "source": [
        "y_pred, y_proba = hgb.predict(X_unseen)"
      ],
      "execution_count": null,
      "outputs": []
    },
    {
      "cell_type": "code",
      "metadata": {
        "id": "lV4lcdiJKTUK",
        "colab_type": "code",
        "colab": {}
      },
      "source": [
        "# Make plots\n",
        "hgb.plot_params()\n",
        "hgb.plot()\n",
        "hgb.treeplot()\n",
        "hgb.plot_validation()\n",
        "hgb.plot_cv()"
      ],
      "execution_count": null,
      "outputs": []
    }
  ]
}