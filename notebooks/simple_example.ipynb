{
  "nbformat": 4,
  "nbformat_minor": 0,
  "metadata": {
    "colab": {
      "name": "hgboost.ipynb",
      "provenance": []
    },
    "kernelspec": {
      "name": "python3",
      "display_name": "Python 3"
    }
  },
  "cells": [
    {
      "cell_type": "code",
      "metadata": {
        "id": "5zScmatVJ89g",
        "colab_type": "code",
        "colab": {}
      },
      "source": [
        "!pip install -U hgboost\n",
        "from hgboost import hgboost"
      ],
      "execution_count": null,
      "outputs": []
    },
    {
      "cell_type": "code",
      "metadata": {
        "id": "RI-QnkptJ_ia",
        "colab_type": "code",
        "colab": {}
      },
      "source": [
        "# Initialize\n",
        "hgb = hgboost(max_eval=250, threshold=0.5, cv=5, test_size=0.2, val_size=0.2, top_cv_evals=10)"
      ],
      "execution_count": null,
      "outputs": []
    },
    {
      "cell_type": "code",
      "metadata": {
        "id": "DRq5gl2eKFNq",
        "colab_type": "code",
        "colab": {}
      },
      "source": [
        "# Fit model on data using desired model\n",
        "results = hgb.lightboost(X, y)\n",
        "results = hgb.catboost(X, y)\n",
        "results = hgb.xgboost(X, y)\n",
        "\n",
        "# Fit model on data using ensemble of all models\n",
        "results   = hgb.ensemble(X, y)"
      ],
      "execution_count": null,
      "outputs": []
    },
    {
      "cell_type": "code",
      "metadata": {
        "id": "hJ6fbPbJQ-Af",
        "colab_type": "code",
        "colab": {}
      },
      "source": [
        "# [hgboost] >Evalute [ensemble] model on independent validation dataset (179 samples, 20%)\n",
        "# [hgboost] >[Ensemble] [auc]: 0.9099 on independent validation dataset\n",
        "# [hgboost] >[xgb_clf]  [auc]: 0.8362 on independent validation dataset\n",
        "# [hgboost] >[ctb_clf]  [auc]: 0.8347 on independent validation dataset\n",
        "# [hgboost] >[lgb_clf]  [auc]: 0.8473 on independent validation dataset"
      ],
      "execution_count": 1,
      "outputs": []
    },
    {
      "cell_type": "code",
      "metadata": {
        "id": "eB5qVtX_KNZE",
        "colab_type": "code",
        "colab": {}
      },
      "source": [
        "y_pred, y_proba = hgb.predict(X_unseen)"
      ],
      "execution_count": null,
      "outputs": []
    },
    {
      "cell_type": "code",
      "metadata": {
        "id": "lV4lcdiJKTUK",
        "colab_type": "code",
        "colab": {}
      },
      "source": [
        "# Make some plots\n",
        "hgb.plot_params()\n",
        "hgb.plot()\n",
        "hgb.treeplot()\n",
        "hgb.plot_validation()\n",
        "hgb.plot_cv()"
      ],
      "execution_count": null,
      "outputs": []
    },
    {
      "cell_type": "markdown",
      "metadata": {
        "id": "9RtOAaurM6D0",
        "colab_type": "text"
      },
      "source": [
        ""
      ]
    }
  ]
}