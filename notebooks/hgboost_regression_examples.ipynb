{
  "nbformat": 4,
  "nbformat_minor": 0,
  "metadata": {
    "colab": {
      "name": "hgboost_regression_examples.ipynb",
      "provenance": [],
      "collapsed_sections": []
    },
    "kernelspec": {
      "name": "python3",
      "display_name": "Python 3"
    }
  },
  "cells": [
    {
      "cell_type": "markdown",
      "metadata": {
        "id": "a96dBwnfubFN",
        "colab_type": "text"
      },
      "source": [
        "hgboost is short for **Hyperoptimized Gradient Boosting**. The aim of hgboost is too determine the most robust model by efficiently searching across the parameter space using hyperoptimization for which the loss is evaluated by means of a train/test-set with k-fold cross-validation. The final optimized model is evaluated on an independent validation set. The incorporated boosting methods are *xgboost*, *catboost* and *lightboost*. hgboost can be applied for classification and regression tasks. This notebook will show some **regression** examples.\n",
        "\n",
        "More information can be found here:\n",
        "\n",
        "* [Github](https://github.com/erdogant/hgboost/blob/master/README.md)\n",
        "* [API documentation](https://erdogant.github.io/hgboost/)\n",
        "* [Classification examples Colab](https://colab.research.google.com/github/erdogant/hgboost/blob/master/notebooks/hgboost_classification_examples.ipynb)\n",
        "\n"
      ]
    },
    {
      "cell_type": "code",
      "metadata": {
        "id": "YgIyTY9qub3d",
        "colab_type": "code",
        "colab": {}
      },
      "source": [
        "pip install hgboost"
      ],
      "execution_count": null,
      "outputs": []
    },
    {
      "cell_type": "markdown",
      "metadata": {
        "id": "ABKzMyoMia9i",
        "colab_type": "text"
      },
      "source": [
        "Import the hgboost library"
      ]
    },
    {
      "cell_type": "code",
      "metadata": {
        "id": "3IOnt3cvUiyk",
        "colab_type": "code",
        "colab": {}
      },
      "source": [
        "from hgboost import hgboost\n",
        "import numpy as np"
      ],
      "execution_count": null,
      "outputs": []
    },
    {
      "cell_type": "markdown",
      "metadata": {
        "id": "wABxqhb8if3R",
        "colab_type": "text"
      },
      "source": [
        "Initialize using specified parameters. The parameters here are the default parameters."
      ]
    },
    {
      "cell_type": "code",
      "metadata": {
        "id": "zennDxyBU627",
        "colab_type": "code",
        "colab": {}
      },
      "source": [
        "hgb = hgboost(max_eval=250, threshold=0.5, cv=5, test_size=0.2, val_size=0.2, top_cv_evals=10, random_state=None, verbose=3)"
      ],
      "execution_count": null,
      "outputs": []
    },
    {
      "cell_type": "markdown",
      "metadata": {
        "id": "CXqS2mJmitMq",
        "colab_type": "text"
      },
      "source": [
        "Import example dataset. In this case it is the titanic dataset. We are going to set **age** as our response variable (y). Lets see how good we can predict **age**."
      ]
    },
    {
      "cell_type": "code",
      "metadata": {
        "id": "06YMCo-5VQUn",
        "colab_type": "code",
        "colab": {}
      },
      "source": [
        "# Import data\n",
        "df = hgb.import_example()\n",
        "y = df['Age'].values\n",
        "del df['Age']\n",
        "I = ~np.isnan(y)\n",
        "X = hgb.preprocessing(df, verbose=0)\n",
        "X = X.loc[I,:]\n",
        "y = y[I]"
      ],
      "execution_count": null,
      "outputs": []
    },
    {
      "cell_type": "markdown",
      "metadata": {
        "id": "hFW3N8iOi9ww",
        "colab_type": "text"
      },
      "source": [
        "At this point we can initizalize which boosting model we want to **fit**. For **regression** there is the *xgboost*, *lightboost* or *xgboost*. In addition it is possible to fit an **ensemble** of all (specified) models. For demonstration we will first fit using *xgboost*. If other boosting methods are desired, simply uncomment."
      ]
    },
    {
      "cell_type": "code",
      "metadata": {
        "id": "pj-Y4M8rVG1r",
        "colab_type": "code",
        "colab": {}
      },
      "source": [
        "# Fit\n",
        "# results = hgb.lightboost_reg(X, y)\n",
        "# results = hgb.catboost_reg(X, y)\n",
        "results = hgb.xgboost_reg(X, y)"
      ],
      "execution_count": null,
      "outputs": []
    },
    {
      "cell_type": "markdown",
      "metadata": {
        "id": "Au8iFMuDkM6t",
        "colab_type": "text"
      },
      "source": [
        "Done! Fast and clean! We evaluated 250 sets of parameters using HyperOpt in a cross-validation to determine the most optimal set of parameters for predictions using the specified evaluation metric (default is *auc*). We can now easily predict new samples using the **predict** function."
      ]
    },
    {
      "cell_type": "code",
      "metadata": {
        "id": "TyMewFppkxkN",
        "colab_type": "code",
        "colab": {}
      },
      "source": [
        "# Use the predictor\n",
        "y_pred, y_proba = hgb.predict(X)"
      ],
      "execution_count": null,
      "outputs": []
    },
    {
      "cell_type": "code",
      "metadata": {
        "id": "e4UT0qXxk_MX",
        "colab_type": "code",
        "colab": {}
      },
      "source": [
        "# First 10 elements\n",
        "y_pred[0:10]"
      ],
      "execution_count": null,
      "outputs": []
    },
    {
      "cell_type": "markdown",
      "metadata": {
        "id": "_Hybswe8lSwb",
        "colab_type": "text"
      },
      "source": [
        "Lets examine the hyper-parameters. We can plot all the individual parameters examine the density, and how the parameters evolve over the iterations."
      ]
    },
    {
      "cell_type": "code",
      "metadata": {
        "id": "ZVxu7ShPVIIk",
        "colab_type": "code",
        "colab": {}
      },
      "source": [
        "# Make some plots\n",
        "hgb.plot_params(figsize=(20,20))"
      ],
      "execution_count": null,
      "outputs": []
    },
    {
      "cell_type": "markdown",
      "metadata": {
        "id": "U-cBhyZ2lteS",
        "colab_type": "text"
      },
      "source": [
        "Examine each of the iterations. The top 10 results with cross validation are depicted with blue bars. The green dashed line is the best model without using CV. The red dashed line is the best model with CV. It can be seen that iterations are available that scored higher then the CV but are not selected."
      ]
    },
    {
      "cell_type": "code",
      "metadata": {
        "id": "gp0lhN7DVogD",
        "colab_type": "code",
        "colab": {}
      },
      "source": [
        "hgb.plot(figsize=(15,8))"
      ],
      "execution_count": null,
      "outputs": []
    },
    {
      "cell_type": "markdown",
      "metadata": {
        "id": "Xi7I2U42mz5X",
        "colab_type": "text"
      },
      "source": [
        "We can now deeper dive into the cross validation of the best performing model (red dashed line) by plotting the scores for the CVs. Here we see the results for the 5 crosses."
      ]
    },
    {
      "cell_type": "code",
      "metadata": {
        "id": "XObgaHm-myzD",
        "colab_type": "code",
        "colab": {}
      },
      "source": [
        "hgb.plot_cv()"
      ],
      "execution_count": null,
      "outputs": []
    },
    {
      "cell_type": "markdown",
      "metadata": {
        "id": "I4ML7Fb0mi0o",
        "colab_type": "text"
      },
      "source": [
        "Plot the best performing tree, and the ranked features."
      ]
    },
    {
      "cell_type": "code",
      "metadata": {
        "id": "Diy2nHNUV9En",
        "colab_type": "code",
        "colab": {}
      },
      "source": [
        "hgb.treeplot()"
      ],
      "execution_count": null,
      "outputs": []
    },
    {
      "cell_type": "markdown",
      "metadata": {
        "id": "QFiIu3OZmuHi",
        "colab_type": "text"
      },
      "source": [
        "Evaluate the results on the independent validation dataset."
      ]
    },
    {
      "cell_type": "code",
      "metadata": {
        "id": "GcrKhsM8V-Kv",
        "colab_type": "code",
        "colab": {}
      },
      "source": [
        "hgb.plot_validation()"
      ],
      "execution_count": null,
      "outputs": []
    },
    {
      "cell_type": "markdown",
      "metadata": {
        "id": "2TSX_PNRq6ED",
        "colab_type": "text"
      },
      "source": [
        "Lets see whether we can improve the results using the ensemble method!"
      ]
    },
    {
      "cell_type": "code",
      "metadata": {
        "id": "eDsJWv8mq-9F",
        "colab_type": "code",
        "colab": {}
      },
      "source": [
        "results = hgb.ensemble(X, y, methods=['xgb_reg','ctb_reg','lgb_reg'])"
      ],
      "execution_count": null,
      "outputs": []
    },
    {
      "cell_type": "markdown",
      "metadata": {
        "id": "n9yllO0frQqM",
        "colab_type": "text"
      },
      "source": [
        "*Wow!! Much better!!!*\n",
        "\n",
        "**[hgboost] >[Ensemble] [rmse]: 27.38 on independent validation dataset**\n",
        "\n",
        "[hgboost] >[xgb_reg]  [rmse]: 141 on independent validation dataset\n",
        "\n",
        "[hgboost] >[ctb_reg]  [rmse]: 128.1 on independent validation dataset\n",
        "\n",
        "[hgboost] >[lgb_reg]  [rmse]: 147.1 on independent validation dataset\n"
      ]
    },
    {
      "cell_type": "code",
      "metadata": {
        "id": "V1JmZbJftFfs",
        "colab_type": "code",
        "colab": {}
      },
      "source": [
        "hgb.plot_validation()"
      ],
      "execution_count": null,
      "outputs": []
    }
  ]
}